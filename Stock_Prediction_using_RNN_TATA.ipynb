{
  "nbformat": 4,
  "nbformat_minor": 0,
  "metadata": {
    "kernelspec": {
      "display_name": "Python 3",
      "language": "python",
      "name": "python3"
    },
    "language_info": {
      "codemirror_mode": {
        "name": "ipython",
        "version": 3
      },
      "file_extension": ".py",
      "mimetype": "text/x-python",
      "name": "python",
      "nbconvert_exporter": "python",
      "pygments_lexer": "ipython3",
      "version": "3.7.3"
    },
    "colab": {
      "name": "Stock_Prediction_using_RNN_TATA.ipynb",
      "provenance": [],
      "collapsed_sections": [],
      "toc_visible": true,
      "include_colab_link": true
    },
    "accelerator": "GPU"
  },
  "cells": [
    {
      "cell_type": "markdown",
      "metadata": {
        "id": "view-in-github",
        "colab_type": "text"
      },
      "source": [
        "<a href=\"https://colab.research.google.com/github/FuadKhalit/DeepLearningRepo/blob/main/Stock_Prediction_using_RNN_TATA.ipynb\" target=\"_parent\"><img src=\"https://colab.research.google.com/assets/colab-badge.svg\" alt=\"Open In Colab\"/></a>"
      ]
    },
    {
      "cell_type": "markdown",
      "metadata": {
        "id": "_l80EnxWVNK0"
      },
      "source": [
        "# Stock Prices Prediction Using Keras Long Short Term Memory"
      ]
    },
    {
      "cell_type": "markdown",
      "metadata": {
        "id": "Lebuzx3ZVNK7"
      },
      "source": [
        "### Stock Prediction - Tata Global Beverages Ltd"
      ]
    },
    {
      "cell_type": "code",
      "metadata": {
        "colab": {
          "base_uri": "https://localhost:8080/"
        },
        "id": "ez5GnTKR0vzp",
        "outputId": "8c569a3d-851d-490c-d7e8-e45a2e81da56"
      },
      "source": [
        "from google.colab import drive\n",
        "drive.mount('/content/drive')"
      ],
      "execution_count": 1,
      "outputs": [
        {
          "output_type": "stream",
          "text": [
            "Mounted at /content/drive\n"
          ],
          "name": "stdout"
        }
      ]
    },
    {
      "cell_type": "code",
      "metadata": {
        "id": "1aoLNGAIVNK8"
      },
      "source": [
        "# Part 1 - Data Preprocessing\n",
        "\n",
        "# Importing the libraries\n",
        "import numpy as np\n",
        "import matplotlib.pyplot as plt\n",
        "import pandas as pd"
      ],
      "execution_count": 2,
      "outputs": []
    },
    {
      "cell_type": "code",
      "metadata": {
        "id": "T0D4KtvBVNLD"
      },
      "source": [
        "# Importing the training set\n",
        "data = pd.read_csv('/content/drive/MyDrive/Deep Learning/RNN_Timeseries/Train_Dataset.csv')\n",
        "# \"Open\" has been taken as the target variable\n"
      ],
      "execution_count": 5,
      "outputs": []
    },
    {
      "cell_type": "code",
      "metadata": {
        "id": "T1fop8wwVNLM",
        "colab": {
          "base_uri": "https://localhost:8080/",
          "height": 194
        },
        "outputId": "d3310f47-03cc-4d79-d724-d41b761502de"
      },
      "source": [
        "data.head()"
      ],
      "execution_count": 6,
      "outputs": [
        {
          "output_type": "execute_result",
          "data": {
            "text/html": [
              "<div>\n",
              "<style scoped>\n",
              "    .dataframe tbody tr th:only-of-type {\n",
              "        vertical-align: middle;\n",
              "    }\n",
              "\n",
              "    .dataframe tbody tr th {\n",
              "        vertical-align: top;\n",
              "    }\n",
              "\n",
              "    .dataframe thead th {\n",
              "        text-align: right;\n",
              "    }\n",
              "</style>\n",
              "<table border=\"1\" class=\"dataframe\">\n",
              "  <thead>\n",
              "    <tr style=\"text-align: right;\">\n",
              "      <th></th>\n",
              "      <th>Date</th>\n",
              "      <th>Open</th>\n",
              "      <th>High</th>\n",
              "      <th>Low</th>\n",
              "      <th>Last</th>\n",
              "      <th>Close</th>\n",
              "      <th>Total Trade Quantity</th>\n",
              "      <th>Turnover (Lacs)</th>\n",
              "    </tr>\n",
              "  </thead>\n",
              "  <tbody>\n",
              "    <tr>\n",
              "      <th>0</th>\n",
              "      <td>2018-09-28</td>\n",
              "      <td>234.05</td>\n",
              "      <td>235.95</td>\n",
              "      <td>230.20</td>\n",
              "      <td>233.50</td>\n",
              "      <td>233.75</td>\n",
              "      <td>3069914</td>\n",
              "      <td>7162.35</td>\n",
              "    </tr>\n",
              "    <tr>\n",
              "      <th>1</th>\n",
              "      <td>2018-09-27</td>\n",
              "      <td>234.55</td>\n",
              "      <td>236.80</td>\n",
              "      <td>231.10</td>\n",
              "      <td>233.80</td>\n",
              "      <td>233.25</td>\n",
              "      <td>5082859</td>\n",
              "      <td>11859.95</td>\n",
              "    </tr>\n",
              "    <tr>\n",
              "      <th>2</th>\n",
              "      <td>2018-09-26</td>\n",
              "      <td>240.00</td>\n",
              "      <td>240.00</td>\n",
              "      <td>232.50</td>\n",
              "      <td>235.00</td>\n",
              "      <td>234.25</td>\n",
              "      <td>2240909</td>\n",
              "      <td>5248.60</td>\n",
              "    </tr>\n",
              "    <tr>\n",
              "      <th>3</th>\n",
              "      <td>2018-09-25</td>\n",
              "      <td>233.30</td>\n",
              "      <td>236.75</td>\n",
              "      <td>232.00</td>\n",
              "      <td>236.25</td>\n",
              "      <td>236.10</td>\n",
              "      <td>2349368</td>\n",
              "      <td>5503.90</td>\n",
              "    </tr>\n",
              "    <tr>\n",
              "      <th>4</th>\n",
              "      <td>2018-09-24</td>\n",
              "      <td>233.55</td>\n",
              "      <td>239.20</td>\n",
              "      <td>230.75</td>\n",
              "      <td>234.00</td>\n",
              "      <td>233.30</td>\n",
              "      <td>3423509</td>\n",
              "      <td>7999.55</td>\n",
              "    </tr>\n",
              "  </tbody>\n",
              "</table>\n",
              "</div>"
            ],
            "text/plain": [
              "         Date    Open    High  ...   Close  Total Trade Quantity  Turnover (Lacs)\n",
              "0  2018-09-28  234.05  235.95  ...  233.75               3069914          7162.35\n",
              "1  2018-09-27  234.55  236.80  ...  233.25               5082859         11859.95\n",
              "2  2018-09-26  240.00  240.00  ...  234.25               2240909          5248.60\n",
              "3  2018-09-25  233.30  236.75  ...  236.10               2349368          5503.90\n",
              "4  2018-09-24  233.55  239.20  ...  233.30               3423509          7999.55\n",
              "\n",
              "[5 rows x 8 columns]"
            ]
          },
          "metadata": {
            "tags": []
          },
          "execution_count": 6
        }
      ]
    },
    {
      "cell_type": "code",
      "metadata": {
        "id": "rWfag1ShZb_s"
      },
      "source": [
        "# Read all rows and col 1 into dataframe ds\n",
        "ds = data.iloc[:, 1:2]"
      ],
      "execution_count": 7,
      "outputs": []
    },
    {
      "cell_type": "code",
      "metadata": {
        "id": "NhzBNSWpZj2n",
        "colab": {
          "base_uri": "https://localhost:8080/"
        },
        "outputId": "b0bf4554-4fe0-4440-d747-205675393a90"
      },
      "source": [
        "ds.shape"
      ],
      "execution_count": 8,
      "outputs": [
        {
          "output_type": "execute_result",
          "data": {
            "text/plain": [
              "(2035, 1)"
            ]
          },
          "metadata": {
            "tags": []
          },
          "execution_count": 8
        }
      ]
    },
    {
      "cell_type": "code",
      "metadata": {
        "id": "uZRNxaL0ZnYM",
        "colab": {
          "base_uri": "https://localhost:8080/"
        },
        "outputId": "8022e04d-c52e-4f2c-fee5-b7b81697ea25"
      },
      "source": [
        "ds.head"
      ],
      "execution_count": 9,
      "outputs": [
        {
          "output_type": "execute_result",
          "data": {
            "text/plain": [
              "<bound method NDFrame.head of         Open\n",
              "0     234.05\n",
              "1     234.55\n",
              "2     240.00\n",
              "3     233.30\n",
              "4     233.55\n",
              "...      ...\n",
              "2030  117.60\n",
              "2031  120.10\n",
              "2032  121.80\n",
              "2033  120.30\n",
              "2034  122.10\n",
              "\n",
              "[2035 rows x 1 columns]>"
            ]
          },
          "metadata": {
            "tags": []
          },
          "execution_count": 9
        }
      ]
    },
    {
      "cell_type": "code",
      "metadata": {
        "id": "oXjxIbriuHpz"
      },
      "source": [
        "# Read col1 into a numpy array\n",
        "training_set = data.iloc[:, 1:2].values"
      ],
      "execution_count": 10,
      "outputs": []
    },
    {
      "cell_type": "markdown",
      "metadata": {
        "id": "SmbR3TobaLcB"
      },
      "source": [
        "training_set is a numpy array whereas ds is a dataframe"
      ]
    },
    {
      "cell_type": "code",
      "metadata": {
        "colab": {
          "base_uri": "https://localhost:8080/"
        },
        "id": "S5YSfWvivFXR",
        "outputId": "9facaf84-da91-49dd-99fe-3f689a662a4e"
      },
      "source": [
        "training_set.shape"
      ],
      "execution_count": 11,
      "outputs": [
        {
          "output_type": "execute_result",
          "data": {
            "text/plain": [
              "(2035, 1)"
            ]
          },
          "metadata": {
            "tags": []
          },
          "execution_count": 11
        }
      ]
    },
    {
      "cell_type": "code",
      "metadata": {
        "id": "q9BUnx81VNLH",
        "colab": {
          "base_uri": "https://localhost:8080/"
        },
        "outputId": "0a15a2db-29bc-431b-d76f-f3d0037ac286"
      },
      "source": [
        "print(training_set)"
      ],
      "execution_count": 12,
      "outputs": [
        {
          "output_type": "stream",
          "text": [
            "[[234.05]\n",
            " [234.55]\n",
            " [240.  ]\n",
            " ...\n",
            " [121.8 ]\n",
            " [120.3 ]\n",
            " [122.1 ]]\n"
          ],
          "name": "stdout"
        }
      ]
    },
    {
      "cell_type": "code",
      "metadata": {
        "id": "z6lrwSfhVNLV",
        "colab": {
          "base_uri": "https://localhost:8080/",
          "height": 334
        },
        "outputId": "46a8175c-ad7a-4522-fcaf-cf52910c49c9"
      },
      "source": [
        "import seaborn as sns\n",
        "plt.figure(figsize=(20,5))\n",
        "sns.lineplot(x = \"Date\", y = \"Open\", data=data)\n",
        "plt.show()"
      ],
      "execution_count": 13,
      "outputs": [
        {
          "output_type": "display_data",
          "data": {
            "image/png": "[encoded data removed]",
            "text/plain": [
              "<Figure size 1440x360 with 1 Axes>"
            ]
          },
          "metadata": {
            "tags": [],
            "needs_background": "light"
          }
        }
      ]
    },
    {
      "cell_type": "code",
      "metadata": {
        "id": "WS5JZwkYVNLZ"
      },
      "source": [
        "# Feature Scaling\n",
        "from sklearn.preprocessing import MinMaxScaler\n",
        "sc = MinMaxScaler(feature_range = (0, 1))\n",
        "training_set_scaled = sc.fit_transform(training_set)"
      ],
      "execution_count": 14,
      "outputs": []
    },
    {
      "cell_type": "code",
      "metadata": {
        "id": "00U1KQhhVNLf",
        "colab": {
          "base_uri": "https://localhost:8080/"
        },
        "outputId": "d550bfff-c6ca-48b6-98f1-69662f41c5ee"
      },
      "source": [
        "print(training_set_scaled)"
      ],
      "execution_count": 15,
      "outputs": [
        {
          "output_type": "stream",
          "text": [
            "[[0.6202352 ]\n",
            " [0.62226277]\n",
            " [0.64436334]\n",
            " ...\n",
            " [0.16504461]\n",
            " [0.15896188]\n",
            " [0.16626115]]\n"
          ],
          "name": "stdout"
        }
      ]
    },
    {
      "cell_type": "code",
      "metadata": {
        "id": "vFv2bnzdVNLj"
      },
      "source": [
        "# Creating a data structure with 60 timestamps and 1 output\n",
        "# Slicing the dataset\n",
        "X_train = []\n",
        "y_train = []\n",
        "for i in range(60, 2035):\n",
        "    X_train.append(training_set_scaled[i-60:i, 0])\n",
        "    y_train.append(training_set_scaled[i, 0])\n",
        "X_train, y_train = np.array(X_train), np.array(y_train)"
      ],
      "execution_count": 16,
      "outputs": []
    },
    {
      "cell_type": "code",
      "metadata": {
        "colab": {
          "base_uri": "https://localhost:8080/"
        },
        "id": "R0PSLYdR7557",
        "outputId": "9d00887a-13b4-44c5-b2fc-1b62c28fa054"
      },
      "source": [
        "# The first 60 rows form the first sequence. The remaining rows for one sequence each. \n",
        "# The total number of sequences or new rows = (2035 - 60 = 1975)\n",
        "X_train.shape"
      ],
      "execution_count": 17,
      "outputs": [
        {
          "output_type": "execute_result",
          "data": {
            "text/plain": [
              "(1975, 60)"
            ]
          },
          "metadata": {
            "tags": []
          },
          "execution_count": 17
        }
      ]
    },
    {
      "cell_type": "code",
      "metadata": {
        "colab": {
          "base_uri": "https://localhost:8080/"
        },
        "id": "qllO5K2xB-5c",
        "outputId": "721a3497-e8ea-4594-e8ab-6254e2c68b26"
      },
      "source": [
        "# no. of rows\n",
        "X_train.shape[0]"
      ],
      "execution_count": 18,
      "outputs": [
        {
          "output_type": "execute_result",
          "data": {
            "text/plain": [
              "1975"
            ]
          },
          "metadata": {
            "tags": []
          },
          "execution_count": 18
        }
      ]
    },
    {
      "cell_type": "code",
      "metadata": {
        "colab": {
          "base_uri": "https://localhost:8080/"
        },
        "id": "33PdtaJoCH_d",
        "outputId": "6bc9679f-6ffe-45f7-eaea-0c634f40fd59"
      },
      "source": [
        "# no. of cols\n",
        "X_train.shape[1]"
      ],
      "execution_count": 19,
      "outputs": [
        {
          "output_type": "execute_result",
          "data": {
            "text/plain": [
              "60"
            ]
          },
          "metadata": {
            "tags": []
          },
          "execution_count": 19
        }
      ]
    },
    {
      "cell_type": "code",
      "metadata": {
        "id": "heNZxXuuVNLn",
        "colab": {
          "base_uri": "https://localhost:8080/"
        },
        "outputId": "931081b8-2a85-4699-b021-1b1520b34db6"
      },
      "source": [
        "print(X_train)"
      ],
      "execution_count": 20,
      "outputs": [
        {
          "output_type": "stream",
          "text": [
            "[[0.6202352  0.62226277 0.64436334 ... 0.79622871 0.81062449 0.74371452]\n",
            " [0.62226277 0.64436334 0.61719384 ... 0.81062449 0.74371452 0.77007299]\n",
            " [0.64436334 0.61719384 0.61820762 ... 0.74371452 0.77007299 0.73641525]\n",
            " ...\n",
            " [0.19870235 0.21796431 0.21553122 ... 0.14963504 0.14801298 0.15815085]\n",
            " [0.21796431 0.21553122 0.20600162 ... 0.14801298 0.15815085 0.16504461]\n",
            " [0.21553122 0.20600162 0.21654501 ... 0.15815085 0.16504461 0.15896188]]\n"
          ],
          "name": "stdout"
        }
      ]
    },
    {
      "cell_type": "code",
      "metadata": {
        "id": "ZALaEK2kVNLu"
      },
      "source": [
        "# Reshaping data to have 3D shape (rows, sequences, inputs)\n",
        "# This data is only using one column, that is one independent variable. Hence the third dimension is 1\n",
        "\n",
        "X_train = np.reshape(X_train, (X_train.shape[0], X_train.shape[1], 1))"
      ],
      "execution_count": 21,
      "outputs": []
    },
    {
      "cell_type": "code",
      "metadata": {
        "id": "GObkScNjVNLy",
        "colab": {
          "base_uri": "https://localhost:8080/"
        },
        "outputId": "2fc37d9f-e62d-43a1-987d-c7c7c0688f50"
      },
      "source": [
        "print(X_train)"
      ],
      "execution_count": 22,
      "outputs": [
        {
          "output_type": "stream",
          "text": [
            "[[[0.6202352 ]\n",
            "  [0.62226277]\n",
            "  [0.64436334]\n",
            "  ...\n",
            "  [0.79622871]\n",
            "  [0.81062449]\n",
            "  [0.74371452]]\n",
            "\n",
            " [[0.62226277]\n",
            "  [0.64436334]\n",
            "  [0.61719384]\n",
            "  ...\n",
            "  [0.81062449]\n",
            "  [0.74371452]\n",
            "  [0.77007299]]\n",
            "\n",
            " [[0.64436334]\n",
            "  [0.61719384]\n",
            "  [0.61820762]\n",
            "  ...\n",
            "  [0.74371452]\n",
            "  [0.77007299]\n",
            "  [0.73641525]]\n",
            "\n",
            " ...\n",
            "\n",
            " [[0.19870235]\n",
            "  [0.21796431]\n",
            "  [0.21553122]\n",
            "  ...\n",
            "  [0.14963504]\n",
            "  [0.14801298]\n",
            "  [0.15815085]]\n",
            "\n",
            " [[0.21796431]\n",
            "  [0.21553122]\n",
            "  [0.20600162]\n",
            "  ...\n",
            "  [0.14801298]\n",
            "  [0.15815085]\n",
            "  [0.16504461]]\n",
            "\n",
            " [[0.21553122]\n",
            "  [0.20600162]\n",
            "  [0.21654501]\n",
            "  ...\n",
            "  [0.15815085]\n",
            "  [0.16504461]\n",
            "  [0.15896188]]]\n"
          ],
          "name": "stdout"
        }
      ]
    },
    {
      "cell_type": "code",
      "metadata": {
        "id": "jIY9DQwEVNLr",
        "colab": {
          "base_uri": "https://localhost:8080/"
        },
        "outputId": "686d08eb-b7b4-4684-96b9-3bde5600423a"
      },
      "source": [
        "print(y_train)\n"
      ],
      "execution_count": 23,
      "outputs": [
        {
          "output_type": "stream",
          "text": [
            "[0.77007299 0.73641525 0.73763179 ... 0.16504461 0.15896188 0.16626115]\n"
          ],
          "name": "stdout"
        }
      ]
    },
    {
      "cell_type": "code",
      "metadata": {
        "colab": {
          "base_uri": "https://localhost:8080/"
        },
        "id": "0wpg6gle5oL-",
        "outputId": "c6b00e73-af66-484d-944f-d8782daa6582"
      },
      "source": [
        "y_train.shape"
      ],
      "execution_count": 24,
      "outputs": [
        {
          "output_type": "execute_result",
          "data": {
            "text/plain": [
              "(1975,)"
            ]
          },
          "metadata": {
            "tags": []
          },
          "execution_count": 24
        }
      ]
    },
    {
      "cell_type": "code",
      "metadata": {
        "id": "z5N59JYOVNL5"
      },
      "source": [
        "# Part 2 - Building the RNN\n",
        "\n",
        "# Importing the Keras libraries and packages\n",
        "from keras.models import Sequential\n",
        "from keras.layers import Dense\n",
        "from keras.layers import LSTM\n",
        "from keras.layers import Dropout"
      ],
      "execution_count": 25,
      "outputs": []
    },
    {
      "cell_type": "code",
      "metadata": {
        "id": "-5UH9IVZVNL9"
      },
      "source": [
        "# Initialising the RNN\n",
        "regressor = Sequential()\n",
        "\n",
        "# Adding the first LSTM layer and some Dropout regularisation\n",
        "# Note that in input shape in this example is (no of time steps x no of variables) is ( 60 x 1)\n",
        "# Number of LSTM units (50) has no relationship to no of time steps.\n",
        "# With 50 units this layer produces an output sequence of 50 time steps\n",
        "regressor.add(LSTM(units = 50, return_sequences = True, input_shape = (X_train.shape[1], 1)))\n",
        "regressor.add(Dropout(0.2))"
      ],
      "execution_count": 26,
      "outputs": []
    },
    {
      "cell_type": "code",
      "metadata": {
        "id": "jqWYb__bVNMB"
      },
      "source": [
        "# Adding a second LSTM layer and some Dropout regularisation\n",
        "regressor.add(LSTM(units = 50, return_sequences = True))\n",
        "regressor.add(Dropout(0.2))"
      ],
      "execution_count": 27,
      "outputs": []
    },
    {
      "cell_type": "code",
      "metadata": {
        "id": "CmP9rkpCVNME"
      },
      "source": [
        "\n",
        "# Adding a third LSTM layer and some Dropout regularisation\n",
        "regressor.add(LSTM(units = 50, return_sequences = True))\n",
        "regressor.add(Dropout(0.2))"
      ],
      "execution_count": 28,
      "outputs": []
    },
    {
      "cell_type": "code",
      "metadata": {
        "id": "I3980GeLVNMH"
      },
      "source": [
        "# Adding a fourth LSTM layer and some Dropout regularisation\n",
        "# This layer produces a single output\n",
        "regressor.add(LSTM(units = 50))\n",
        "regressor.add(Dropout(0.2))\n"
      ],
      "execution_count": 29,
      "outputs": []
    },
    {
      "cell_type": "code",
      "metadata": {
        "id": "GUx3OZJNVNMK",
        "colab": {
          "base_uri": "https://localhost:8080/"
        },
        "outputId": "c6b8d130-9f08-4565-bb94-76624d03ab57"
      },
      "source": [
        "# Adding the output layer\n",
        "# This is the final layer produces the required numerical prediction\n",
        "regressor.add(Dense(units = 1))\n",
        "\n",
        "# Compiling the RNN\n",
        "regressor.compile(optimizer = 'adam', loss = 'mean_squared_error')\n",
        "\n",
        "# Fitting the RNN to the Training set\n",
        "regressor.fit(X_train, y_train, epochs = 100, batch_size = 32)\n",
        "\n"
      ],
      "execution_count": 30,
      "outputs": [
        {
          "output_type": "stream",
          "text": [
            "Epoch 1/100\n",
            "62/62 [==============================] - 1s 13ms/step - loss: 0.0092\n",
            "Epoch 2/100\n",
            "62/62 [==============================] - 1s 13ms/step - loss: 0.0031\n",
            "Epoch 3/100\n",
            "62/62 [==============================] - 1s 13ms/step - loss: 0.0033\n",
            "Epoch 4/100\n",
            "62/62 [==============================] - 1s 13ms/step - loss: 0.0027\n",
            "Epoch 5/100\n",
            "62/62 [==============================] - 1s 13ms/step - loss: 0.0023\n",
            "Epoch 6/100\n",
            "62/62 [==============================] - 1s 13ms/step - loss: 0.0023\n",
            "Epoch 7/100\n",
            "62/62 [==============================] - 1s 13ms/step - loss: 0.0020\n",
            "Epoch 8/100\n",
            "62/62 [==============================] - 1s 13ms/step - loss: 0.0018\n",
            "Epoch 9/100\n",
            "62/62 [==============================] - 1s 13ms/step - loss: 0.0020\n",
            "Epoch 10/100\n",
            "62/62 [==============================] - 1s 13ms/step - loss: 0.0018\n",
            "Epoch 11/100\n",
            "62/62 [==============================] - 1s 13ms/step - loss: 0.0017\n",
            "Epoch 12/100\n",
            "62/62 [==============================] - 1s 13ms/step - loss: 0.0017\n",
            "Epoch 13/100\n",
            "62/62 [==============================] - 1s 13ms/step - loss: 0.0017\n",
            "Epoch 14/100\n",
            "62/62 [==============================] - 1s 13ms/step - loss: 0.0015\n",
            "Epoch 15/100\n",
            "62/62 [==============================] - 1s 13ms/step - loss: 0.0016\n",
            "Epoch 16/100\n",
            "62/62 [==============================] - 1s 13ms/step - loss: 0.0017\n",
            "Epoch 17/100\n",
            "62/62 [==============================] - 1s 13ms/step - loss: 0.0017\n",
            "Epoch 18/100\n",
            "62/62 [==============================] - 1s 13ms/step - loss: 0.0017\n",
            "Epoch 19/100\n",
            "62/62 [==============================] - 1s 13ms/step - loss: 0.0015\n",
            "Epoch 20/100\n",
            "62/62 [==============================] - 1s 13ms/step - loss: 0.0012\n",
            "Epoch 21/100\n",
            "62/62 [==============================] - 1s 13ms/step - loss: 0.0014\n",
            "Epoch 22/100\n",
            "62/62 [==============================] - 1s 13ms/step - loss: 0.0012\n",
            "Epoch 23/100\n",
            "62/62 [==============================] - 1s 13ms/step - loss: 0.0013\n",
            "Epoch 24/100\n",
            "62/62 [==============================] - 1s 13ms/step - loss: 0.0011\n",
            "Epoch 25/100\n",
            "62/62 [==============================] - 1s 13ms/step - loss: 0.0014\n",
            "Epoch 26/100\n",
            "62/62 [==============================] - 1s 13ms/step - loss: 0.0012\n",
            "Epoch 27/100\n",
            "62/62 [==============================] - 1s 13ms/step - loss: 0.0012\n",
            "Epoch 28/100\n",
            "62/62 [==============================] - 1s 13ms/step - loss: 0.0012\n",
            "Epoch 29/100\n",
            "62/62 [==============================] - 1s 13ms/step - loss: 0.0012\n",
            "Epoch 30/100\n",
            "62/62 [==============================] - 1s 13ms/step - loss: 0.0010\n",
            "Epoch 31/100\n",
            "62/62 [==============================] - 1s 13ms/step - loss: 0.0011\n",
            "Epoch 32/100\n",
            "62/62 [==============================] - 1s 13ms/step - loss: 0.0010\n",
            "Epoch 33/100\n",
            "62/62 [==============================] - 1s 13ms/step - loss: 0.0010\n",
            "Epoch 34/100\n",
            "62/62 [==============================] - 1s 13ms/step - loss: 0.0011\n",
            "Epoch 35/100\n",
            "62/62 [==============================] - 1s 13ms/step - loss: 0.0013\n",
            "Epoch 36/100\n",
            "62/62 [==============================] - 1s 13ms/step - loss: 0.0011\n",
            "Epoch 37/100\n",
            "62/62 [==============================] - 1s 13ms/step - loss: 0.0011\n",
            "Epoch 38/100\n",
            "62/62 [==============================] - 1s 13ms/step - loss: 8.0315e-04\n",
            "Epoch 39/100\n",
            "62/62 [==============================] - 1s 13ms/step - loss: 8.3877e-04\n",
            "Epoch 40/100\n",
            "62/62 [==============================] - 1s 13ms/step - loss: 9.3206e-04\n",
            "Epoch 41/100\n",
            "62/62 [==============================] - 1s 13ms/step - loss: 9.0552e-04\n",
            "Epoch 42/100\n",
            "62/62 [==============================] - 1s 13ms/step - loss: 9.4883e-04\n",
            "Epoch 43/100\n",
            "62/62 [==============================] - 1s 13ms/step - loss: 9.4977e-04\n",
            "Epoch 44/100\n",
            "62/62 [==============================] - 1s 13ms/step - loss: 8.4154e-04\n",
            "Epoch 45/100\n",
            "62/62 [==============================] - 1s 13ms/step - loss: 9.1041e-04\n",
            "Epoch 46/100\n",
            "62/62 [==============================] - 1s 13ms/step - loss: 9.7888e-04\n",
            "Epoch 47/100\n",
            "62/62 [==============================] - 1s 13ms/step - loss: 8.0290e-04\n",
            "Epoch 48/100\n",
            "62/62 [==============================] - 1s 13ms/step - loss: 8.2466e-04\n",
            "Epoch 49/100\n",
            "62/62 [==============================] - 1s 13ms/step - loss: 8.3309e-04\n",
            "Epoch 50/100\n",
            "62/62 [==============================] - 1s 13ms/step - loss: 8.5874e-04\n",
            "Epoch 51/100\n",
            "62/62 [==============================] - 1s 13ms/step - loss: 8.3330e-04\n",
            "Epoch 52/100\n",
            "62/62 [==============================] - 1s 13ms/step - loss: 8.1697e-04\n",
            "Epoch 53/100\n",
            "62/62 [==============================] - 1s 13ms/step - loss: 7.5806e-04\n",
            "Epoch 54/100\n",
            "62/62 [==============================] - 1s 13ms/step - loss: 7.7463e-04\n",
            "Epoch 55/100\n",
            "62/62 [==============================] - 1s 13ms/step - loss: 7.8443e-04\n",
            "Epoch 56/100\n",
            "62/62 [==============================] - 1s 13ms/step - loss: 7.5950e-04\n",
            "Epoch 57/100\n",
            "62/62 [==============================] - 1s 13ms/step - loss: 7.4348e-04\n",
            "Epoch 58/100\n",
            "62/62 [==============================] - 1s 13ms/step - loss: 6.9235e-04\n",
            "Epoch 59/100\n",
            "62/62 [==============================] - 1s 13ms/step - loss: 7.1279e-04\n",
            "Epoch 60/100\n",
            "62/62 [==============================] - 1s 13ms/step - loss: 7.5705e-04\n",
            "Epoch 61/100\n",
            "62/62 [==============================] - 1s 13ms/step - loss: 7.1054e-04\n",
            "Epoch 62/100\n",
            "62/62 [==============================] - 1s 13ms/step - loss: 8.0786e-04\n",
            "Epoch 63/100\n",
            "62/62 [==============================] - 1s 13ms/step - loss: 7.2570e-04\n",
            "Epoch 64/100\n",
            "62/62 [==============================] - 1s 13ms/step - loss: 7.0253e-04\n",
            "Epoch 65/100\n",
            "62/62 [==============================] - 1s 13ms/step - loss: 7.2874e-04\n",
            "Epoch 66/100\n",
            "62/62 [==============================] - 1s 13ms/step - loss: 8.5839e-04\n",
            "Epoch 67/100\n",
            "62/62 [==============================] - 1s 13ms/step - loss: 7.3033e-04\n",
            "Epoch 68/100\n",
            "62/62 [==============================] - 1s 13ms/step - loss: 8.2282e-04\n",
            "Epoch 69/100\n",
            "62/62 [==============================] - 1s 13ms/step - loss: 6.6971e-04\n",
            "Epoch 70/100\n",
            "62/62 [==============================] - 1s 13ms/step - loss: 6.7758e-04\n",
            "Epoch 71/100\n",
            "62/62 [==============================] - 1s 13ms/step - loss: 6.1941e-04\n",
            "Epoch 72/100\n",
            "62/62 [==============================] - 1s 14ms/step - loss: 6.4858e-04\n",
            "Epoch 73/100\n",
            "62/62 [==============================] - 1s 14ms/step - loss: 6.0348e-04\n",
            "Epoch 74/100\n",
            "62/62 [==============================] - 1s 14ms/step - loss: 7.8214e-04\n",
            "Epoch 75/100\n",
            "62/62 [==============================] - 1s 13ms/step - loss: 6.4734e-04\n",
            "Epoch 76/100\n",
            "62/62 [==============================] - 1s 14ms/step - loss: 7.7273e-04\n",
            "Epoch 77/100\n",
            "62/62 [==============================] - 1s 14ms/step - loss: 7.6367e-04\n",
            "Epoch 78/100\n",
            "62/62 [==============================] - 1s 14ms/step - loss: 7.6233e-04\n",
            "Epoch 79/100\n",
            "62/62 [==============================] - 1s 14ms/step - loss: 6.9655e-04\n",
            "Epoch 80/100\n",
            "62/62 [==============================] - 1s 14ms/step - loss: 7.3903e-04\n",
            "Epoch 81/100\n",
            "62/62 [==============================] - 1s 13ms/step - loss: 7.9479e-04\n",
            "Epoch 82/100\n",
            "62/62 [==============================] - 1s 13ms/step - loss: 5.8922e-04\n",
            "Epoch 83/100\n",
            "62/62 [==============================] - 1s 14ms/step - loss: 6.1361e-04\n",
            "Epoch 84/100\n",
            "62/62 [==============================] - 1s 13ms/step - loss: 8.1690e-04\n",
            "Epoch 85/100\n",
            "62/62 [==============================] - 1s 13ms/step - loss: 6.6030e-04\n",
            "Epoch 86/100\n",
            "62/62 [==============================] - 1s 13ms/step - loss: 5.9943e-04\n",
            "Epoch 87/100\n",
            "62/62 [==============================] - 1s 13ms/step - loss: 5.7334e-04\n",
            "Epoch 88/100\n",
            "62/62 [==============================] - 1s 13ms/step - loss: 6.5701e-04\n",
            "Epoch 89/100\n",
            "62/62 [==============================] - 1s 13ms/step - loss: 6.5055e-04\n",
            "Epoch 90/100\n",
            "62/62 [==============================] - 1s 13ms/step - loss: 7.0000e-04\n",
            "Epoch 91/100\n",
            "62/62 [==============================] - 1s 13ms/step - loss: 6.2738e-04\n",
            "Epoch 92/100\n",
            "62/62 [==============================] - 1s 13ms/step - loss: 6.2307e-04\n",
            "Epoch 93/100\n",
            "62/62 [==============================] - 1s 13ms/step - loss: 5.8757e-04\n",
            "Epoch 94/100\n",
            "62/62 [==============================] - 1s 13ms/step - loss: 6.3623e-04\n",
            "Epoch 95/100\n",
            "62/62 [==============================] - 1s 13ms/step - loss: 6.0016e-04\n",
            "Epoch 96/100\n",
            "62/62 [==============================] - 1s 14ms/step - loss: 7.0426e-04\n",
            "Epoch 97/100\n",
            "62/62 [==============================] - 1s 13ms/step - loss: 8.3067e-04\n",
            "Epoch 98/100\n",
            "62/62 [==============================] - 1s 13ms/step - loss: 6.1545e-04\n",
            "Epoch 99/100\n",
            "62/62 [==============================] - 1s 13ms/step - loss: 6.8668e-04\n",
            "Epoch 100/100\n",
            "62/62 [==============================] - 1s 13ms/step - loss: 7.5058e-04\n"
          ],
          "name": "stdout"
        },
        {
          "output_type": "execute_result",
          "data": {
            "text/plain": [
              "<tensorflow.python.keras.callbacks.History at 0x7feb93fabac8>"
            ]
          },
          "metadata": {
            "tags": []
          },
          "execution_count": 30
        }
      ]
    },
    {
      "cell_type": "code",
      "metadata": {
        "id": "9y4x7aumVNMP"
      },
      "source": [
        "# Part 3 - Making the predictions and visualising the results using the test dataset\n",
        "\n",
        "# Getting the real stock price of 2017\n",
        "dataset_test = pd.read_csv('/content/drive/MyDrive/Deep Learning/RNN_Timeseries/Test_Dataset.csv')\n",
        "real_stock_price = dataset_test.iloc[:, 1:2].values"
      ],
      "execution_count": 31,
      "outputs": []
    },
    {
      "cell_type": "code",
      "metadata": {
        "id": "rUpmw3wrVNMU",
        "colab": {
          "base_uri": "https://localhost:8080/"
        },
        "outputId": "dfe41734-0d8d-485e-9d8a-8250861105b4"
      },
      "source": [
        "print(real_stock_price)"
      ],
      "execution_count": 32,
      "outputs": [
        {
          "output_type": "stream",
          "text": [
            "[[220.1 ]\n",
            " [221.1 ]\n",
            " [229.45]\n",
            " [230.3 ]\n",
            " [237.7 ]\n",
            " [237.1 ]\n",
            " [229.7 ]\n",
            " [226.25]\n",
            " [215.  ]\n",
            " [215.  ]\n",
            " [215.5 ]\n",
            " [208.  ]\n",
            " [217.  ]\n",
            " [223.5 ]\n",
            " [230.  ]\n",
            " [234.55]]\n"
          ],
          "name": "stdout"
        }
      ]
    },
    {
      "cell_type": "code",
      "metadata": {
        "id": "qATF83S12MIk"
      },
      "source": [
        "dataset_total = pd.concat((data['Open'], dataset_test['Open']), axis = 0)"
      ],
      "execution_count": 33,
      "outputs": []
    },
    {
      "cell_type": "code",
      "metadata": {
        "colab": {
          "base_uri": "https://localhost:8080/"
        },
        "id": "9j1QWlC62W0G",
        "outputId": "1fd4e249-b024-40fc-fd9e-1ced3ec793b5"
      },
      "source": [
        "dataset_test.shape"
      ],
      "execution_count": 34,
      "outputs": [
        {
          "output_type": "execute_result",
          "data": {
            "text/plain": [
              "(16, 8)"
            ]
          },
          "metadata": {
            "tags": []
          },
          "execution_count": 34
        }
      ]
    },
    {
      "cell_type": "code",
      "metadata": {
        "colab": {
          "base_uri": "https://localhost:8080/"
        },
        "id": "Uw8EwWgd2ODy",
        "outputId": "f865c092-3888-43d9-829f-bf7e3d8a3ba7"
      },
      "source": [
        "# train dats + test data = 2035 + 16 = 2051\n",
        "dataset_total.shape"
      ],
      "execution_count": 35,
      "outputs": [
        {
          "output_type": "execute_result",
          "data": {
            "text/plain": [
              "(2051,)"
            ]
          },
          "metadata": {
            "tags": []
          },
          "execution_count": 35
        }
      ]
    },
    {
      "cell_type": "code",
      "metadata": {
        "id": "o5t5e7cN2uhV"
      },
      "source": [
        "# Add 60 previous rows to the test dataset to enable predicting the first row of the test dataset\n",
        "inputs = dataset_total[len(dataset_total) - len(dataset_test) - 60:].values"
      ],
      "execution_count": 36,
      "outputs": []
    },
    {
      "cell_type": "code",
      "metadata": {
        "colab": {
          "base_uri": "https://localhost:8080/"
        },
        "id": "vxs1_tZySVsp",
        "outputId": "e194a4c6-6e9d-4ca0-ce2e-62e51d026eec"
      },
      "source": [
        "inputs.shape"
      ],
      "execution_count": 37,
      "outputs": [
        {
          "output_type": "execute_result",
          "data": {
            "text/plain": [
              "(76,)"
            ]
          },
          "metadata": {
            "tags": []
          },
          "execution_count": 37
        }
      ]
    },
    {
      "cell_type": "code",
      "metadata": {
        "id": "Z85ZTcKvSctY"
      },
      "source": [
        "inputs = inputs.reshape(-1,1)"
      ],
      "execution_count": 38,
      "outputs": []
    },
    {
      "cell_type": "code",
      "metadata": {
        "colab": {
          "base_uri": "https://localhost:8080/"
        },
        "id": "kEf0C0R8SjEY",
        "outputId": "442ad47d-9046-413d-cbe4-d0713437af40"
      },
      "source": [
        "inputs.shape"
      ],
      "execution_count": 39,
      "outputs": [
        {
          "output_type": "execute_result",
          "data": {
            "text/plain": [
              "(76, 1)"
            ]
          },
          "metadata": {
            "tags": []
          },
          "execution_count": 39
        }
      ]
    },
    {
      "cell_type": "code",
      "metadata": {
        "id": "IbiJNNBJSuSg",
        "colab": {
          "base_uri": "https://localhost:8080/"
        },
        "outputId": "6944297d-11c8-46a1-e380-8eb25e3be54c"
      },
      "source": [
        "print(inputs)"
      ],
      "execution_count": 40,
      "outputs": [
        {
          "output_type": "stream",
          "text": [
            "[[131.9 ]\n",
            " [134.5 ]\n",
            " [134.5 ]\n",
            " [134.75]\n",
            " [130.1 ]\n",
            " [128.  ]\n",
            " [125.  ]\n",
            " [124.4 ]\n",
            " [121.3 ]\n",
            " [122.3 ]\n",
            " [123.3 ]\n",
            " [124.6 ]\n",
            " [126.35]\n",
            " [123.45]\n",
            " [121.6 ]\n",
            " [123.  ]\n",
            " [124.55]\n",
            " [122.5 ]\n",
            " [122.8 ]\n",
            " [124.  ]\n",
            " [124.85]\n",
            " [126.15]\n",
            " [128.5 ]\n",
            " [127.7 ]\n",
            " [128.  ]\n",
            " [124.  ]\n",
            " [123.25]\n",
            " [122.5 ]\n",
            " [124.2 ]\n",
            " [121.65]\n",
            " [117.  ]\n",
            " [118.8 ]\n",
            " [119.  ]\n",
            " [118.2 ]\n",
            " [116.  ]\n",
            " [118.45]\n",
            " [114.  ]\n",
            " [112.  ]\n",
            " [110.  ]\n",
            " [110.15]\n",
            " [111.9 ]\n",
            " [115.95]\n",
            " [113.4 ]\n",
            " [113.  ]\n",
            " [113.75]\n",
            " [112.9 ]\n",
            " [112.  ]\n",
            " [114.1 ]\n",
            " [117.  ]\n",
            " [118.5 ]\n",
            " [118.3 ]\n",
            " [117.3 ]\n",
            " [116.5 ]\n",
            " [112.5 ]\n",
            " [118.  ]\n",
            " [117.6 ]\n",
            " [120.1 ]\n",
            " [121.8 ]\n",
            " [120.3 ]\n",
            " [122.1 ]\n",
            " [220.1 ]\n",
            " [221.1 ]\n",
            " [229.45]\n",
            " [230.3 ]\n",
            " [237.7 ]\n",
            " [237.1 ]\n",
            " [229.7 ]\n",
            " [226.25]\n",
            " [215.  ]\n",
            " [215.  ]\n",
            " [215.5 ]\n",
            " [208.  ]\n",
            " [217.  ]\n",
            " [223.5 ]\n",
            " [230.  ]\n",
            " [234.55]]\n"
          ],
          "name": "stdout"
        }
      ]
    },
    {
      "cell_type": "code",
      "metadata": {
        "id": "olvINKH3TDjv"
      },
      "source": [
        "inputs = sc.transform(inputs)\n",
        "X_test = []\n",
        "for i in range(60, 76):\n",
        "    X_test.append(inputs[i-60:i, 0])\n",
        "X_test = np.array(X_test)"
      ],
      "execution_count": 41,
      "outputs": []
    },
    {
      "cell_type": "code",
      "metadata": {
        "colab": {
          "base_uri": "https://localhost:8080/"
        },
        "id": "K4X2ujGDTFb1",
        "outputId": "1ca43eb5-07b8-479c-c0bf-785104b75b6a"
      },
      "source": [
        "X_test.shape"
      ],
      "execution_count": 42,
      "outputs": [
        {
          "output_type": "execute_result",
          "data": {
            "text/plain": [
              "(16, 60)"
            ]
          },
          "metadata": {
            "tags": []
          },
          "execution_count": 42
        }
      ]
    },
    {
      "cell_type": "code",
      "metadata": {
        "id": "ZmlgZevUTPXB",
        "colab": {
          "base_uri": "https://localhost:8080/"
        },
        "outputId": "ecdc35f3-c104-45a4-e293-ca873747d1c6"
      },
      "source": [
        "print(X_test)"
      ],
      "execution_count": 43,
      "outputs": [
        {
          "output_type": "stream",
          "text": [
            "[[0.20600162 0.21654501 0.21654501 0.2175588  0.19870235 0.19018654\n",
            "  0.17802109 0.175588   0.16301703 0.16707218 0.17112733 0.17639903\n",
            "  0.18349554 0.1717356  0.16423358 0.16991079 0.17619627 0.16788321\n",
            "  0.16909976 0.17396594 0.17741281 0.18268451 0.19221411 0.18896999\n",
            "  0.19018654 0.17396594 0.17092457 0.16788321 0.17477697 0.16443633\n",
            "  0.14557989 0.15287916 0.15369019 0.15044607 0.14152474 0.15145985\n",
            "  0.13341444 0.12530414 0.11719384 0.11780211 0.12489862 0.14132198\n",
            "  0.13098135 0.12935929 0.13240065 0.12895377 0.12530414 0.13381995\n",
            "  0.14557989 0.15166261 0.15085158 0.14679643 0.14355231 0.12733171\n",
            "  0.14963504 0.14801298 0.15815085 0.16504461 0.15896188 0.16626115]\n",
            " [0.21654501 0.21654501 0.2175588  0.19870235 0.19018654 0.17802109\n",
            "  0.175588   0.16301703 0.16707218 0.17112733 0.17639903 0.18349554\n",
            "  0.1717356  0.16423358 0.16991079 0.17619627 0.16788321 0.16909976\n",
            "  0.17396594 0.17741281 0.18268451 0.19221411 0.18896999 0.19018654\n",
            "  0.17396594 0.17092457 0.16788321 0.17477697 0.16443633 0.14557989\n",
            "  0.15287916 0.15369019 0.15044607 0.14152474 0.15145985 0.13341444\n",
            "  0.12530414 0.11719384 0.11780211 0.12489862 0.14132198 0.13098135\n",
            "  0.12935929 0.13240065 0.12895377 0.12530414 0.13381995 0.14557989\n",
            "  0.15166261 0.15085158 0.14679643 0.14355231 0.12733171 0.14963504\n",
            "  0.14801298 0.15815085 0.16504461 0.15896188 0.16626115 0.56366586]\n",
            " [0.21654501 0.2175588  0.19870235 0.19018654 0.17802109 0.175588\n",
            "  0.16301703 0.16707218 0.17112733 0.17639903 0.18349554 0.1717356\n",
            "  0.16423358 0.16991079 0.17619627 0.16788321 0.16909976 0.17396594\n",
            "  0.17741281 0.18268451 0.19221411 0.18896999 0.19018654 0.17396594\n",
            "  0.17092457 0.16788321 0.17477697 0.16443633 0.14557989 0.15287916\n",
            "  0.15369019 0.15044607 0.14152474 0.15145985 0.13341444 0.12530414\n",
            "  0.11719384 0.11780211 0.12489862 0.14132198 0.13098135 0.12935929\n",
            "  0.13240065 0.12895377 0.12530414 0.13381995 0.14557989 0.15166261\n",
            "  0.15085158 0.14679643 0.14355231 0.12733171 0.14963504 0.14801298\n",
            "  0.15815085 0.16504461 0.15896188 0.16626115 0.56366586 0.56772101]\n",
            " [0.2175588  0.19870235 0.19018654 0.17802109 0.175588   0.16301703\n",
            "  0.16707218 0.17112733 0.17639903 0.18349554 0.1717356  0.16423358\n",
            "  0.16991079 0.17619627 0.16788321 0.16909976 0.17396594 0.17741281\n",
            "  0.18268451 0.19221411 0.18896999 0.19018654 0.17396594 0.17092457\n",
            "  0.16788321 0.17477697 0.16443633 0.14557989 0.15287916 0.15369019\n",
            "  0.15044607 0.14152474 0.15145985 0.13341444 0.12530414 0.11719384\n",
            "  0.11780211 0.12489862 0.14132198 0.13098135 0.12935929 0.13240065\n",
            "  0.12895377 0.12530414 0.13381995 0.14557989 0.15166261 0.15085158\n",
            "  0.14679643 0.14355231 0.12733171 0.14963504 0.14801298 0.15815085\n",
            "  0.16504461 0.15896188 0.16626115 0.56366586 0.56772101 0.60158151]\n",
            " [0.19870235 0.19018654 0.17802109 0.175588   0.16301703 0.16707218\n",
            "  0.17112733 0.17639903 0.18349554 0.1717356  0.16423358 0.16991079\n",
            "  0.17619627 0.16788321 0.16909976 0.17396594 0.17741281 0.18268451\n",
            "  0.19221411 0.18896999 0.19018654 0.17396594 0.17092457 0.16788321\n",
            "  0.17477697 0.16443633 0.14557989 0.15287916 0.15369019 0.15044607\n",
            "  0.14152474 0.15145985 0.13341444 0.12530414 0.11719384 0.11780211\n",
            "  0.12489862 0.14132198 0.13098135 0.12935929 0.13240065 0.12895377\n",
            "  0.12530414 0.13381995 0.14557989 0.15166261 0.15085158 0.14679643\n",
            "  0.14355231 0.12733171 0.14963504 0.14801298 0.15815085 0.16504461\n",
            "  0.15896188 0.16626115 0.56366586 0.56772101 0.60158151 0.60502839]\n",
            " [0.19018654 0.17802109 0.175588   0.16301703 0.16707218 0.17112733\n",
            "  0.17639903 0.18349554 0.1717356  0.16423358 0.16991079 0.17619627\n",
            "  0.16788321 0.16909976 0.17396594 0.17741281 0.18268451 0.19221411\n",
            "  0.18896999 0.19018654 0.17396594 0.17092457 0.16788321 0.17477697\n",
            "  0.16443633 0.14557989 0.15287916 0.15369019 0.15044607 0.14152474\n",
            "  0.15145985 0.13341444 0.12530414 0.11719384 0.11780211 0.12489862\n",
            "  0.14132198 0.13098135 0.12935929 0.13240065 0.12895377 0.12530414\n",
            "  0.13381995 0.14557989 0.15166261 0.15085158 0.14679643 0.14355231\n",
            "  0.12733171 0.14963504 0.14801298 0.15815085 0.16504461 0.15896188\n",
            "  0.16626115 0.56366586 0.56772101 0.60158151 0.60502839 0.6350365 ]\n",
            " [0.17802109 0.175588   0.16301703 0.16707218 0.17112733 0.17639903\n",
            "  0.18349554 0.1717356  0.16423358 0.16991079 0.17619627 0.16788321\n",
            "  0.16909976 0.17396594 0.17741281 0.18268451 0.19221411 0.18896999\n",
            "  0.19018654 0.17396594 0.17092457 0.16788321 0.17477697 0.16443633\n",
            "  0.14557989 0.15287916 0.15369019 0.15044607 0.14152474 0.15145985\n",
            "  0.13341444 0.12530414 0.11719384 0.11780211 0.12489862 0.14132198\n",
            "  0.13098135 0.12935929 0.13240065 0.12895377 0.12530414 0.13381995\n",
            "  0.14557989 0.15166261 0.15085158 0.14679643 0.14355231 0.12733171\n",
            "  0.14963504 0.14801298 0.15815085 0.16504461 0.15896188 0.16626115\n",
            "  0.56366586 0.56772101 0.60158151 0.60502839 0.6350365  0.63260341]\n",
            " [0.175588   0.16301703 0.16707218 0.17112733 0.17639903 0.18349554\n",
            "  0.1717356  0.16423358 0.16991079 0.17619627 0.16788321 0.16909976\n",
            "  0.17396594 0.17741281 0.18268451 0.19221411 0.18896999 0.19018654\n",
            "  0.17396594 0.17092457 0.16788321 0.17477697 0.16443633 0.14557989\n",
            "  0.15287916 0.15369019 0.15044607 0.14152474 0.15145985 0.13341444\n",
            "  0.12530414 0.11719384 0.11780211 0.12489862 0.14132198 0.13098135\n",
            "  0.12935929 0.13240065 0.12895377 0.12530414 0.13381995 0.14557989\n",
            "  0.15166261 0.15085158 0.14679643 0.14355231 0.12733171 0.14963504\n",
            "  0.14801298 0.15815085 0.16504461 0.15896188 0.16626115 0.56366586\n",
            "  0.56772101 0.60158151 0.60502839 0.6350365  0.63260341 0.6025953 ]\n",
            " [0.16301703 0.16707218 0.17112733 0.17639903 0.18349554 0.1717356\n",
            "  0.16423358 0.16991079 0.17619627 0.16788321 0.16909976 0.17396594\n",
            "  0.17741281 0.18268451 0.19221411 0.18896999 0.19018654 0.17396594\n",
            "  0.17092457 0.16788321 0.17477697 0.16443633 0.14557989 0.15287916\n",
            "  0.15369019 0.15044607 0.14152474 0.15145985 0.13341444 0.12530414\n",
            "  0.11719384 0.11780211 0.12489862 0.14132198 0.13098135 0.12935929\n",
            "  0.13240065 0.12895377 0.12530414 0.13381995 0.14557989 0.15166261\n",
            "  0.15085158 0.14679643 0.14355231 0.12733171 0.14963504 0.14801298\n",
            "  0.15815085 0.16504461 0.15896188 0.16626115 0.56366586 0.56772101\n",
            "  0.60158151 0.60502839 0.6350365  0.63260341 0.6025953  0.58860503]\n",
            " [0.16707218 0.17112733 0.17639903 0.18349554 0.1717356  0.16423358\n",
            "  0.16991079 0.17619627 0.16788321 0.16909976 0.17396594 0.17741281\n",
            "  0.18268451 0.19221411 0.18896999 0.19018654 0.17396594 0.17092457\n",
            "  0.16788321 0.17477697 0.16443633 0.14557989 0.15287916 0.15369019\n",
            "  0.15044607 0.14152474 0.15145985 0.13341444 0.12530414 0.11719384\n",
            "  0.11780211 0.12489862 0.14132198 0.13098135 0.12935929 0.13240065\n",
            "  0.12895377 0.12530414 0.13381995 0.14557989 0.15166261 0.15085158\n",
            "  0.14679643 0.14355231 0.12733171 0.14963504 0.14801298 0.15815085\n",
            "  0.16504461 0.15896188 0.16626115 0.56366586 0.56772101 0.60158151\n",
            "  0.60502839 0.6350365  0.63260341 0.6025953  0.58860503 0.54298459]\n",
            " [0.17112733 0.17639903 0.18349554 0.1717356  0.16423358 0.16991079\n",
            "  0.17619627 0.16788321 0.16909976 0.17396594 0.17741281 0.18268451\n",
            "  0.19221411 0.18896999 0.19018654 0.17396594 0.17092457 0.16788321\n",
            "  0.17477697 0.16443633 0.14557989 0.15287916 0.15369019 0.15044607\n",
            "  0.14152474 0.15145985 0.13341444 0.12530414 0.11719384 0.11780211\n",
            "  0.12489862 0.14132198 0.13098135 0.12935929 0.13240065 0.12895377\n",
            "  0.12530414 0.13381995 0.14557989 0.15166261 0.15085158 0.14679643\n",
            "  0.14355231 0.12733171 0.14963504 0.14801298 0.15815085 0.16504461\n",
            "  0.15896188 0.16626115 0.56366586 0.56772101 0.60158151 0.60502839\n",
            "  0.6350365  0.63260341 0.6025953  0.58860503 0.54298459 0.54298459]\n",
            " [0.17639903 0.18349554 0.1717356  0.16423358 0.16991079 0.17619627\n",
            "  0.16788321 0.16909976 0.17396594 0.17741281 0.18268451 0.19221411\n",
            "  0.18896999 0.19018654 0.17396594 0.17092457 0.16788321 0.17477697\n",
            "  0.16443633 0.14557989 0.15287916 0.15369019 0.15044607 0.14152474\n",
            "  0.15145985 0.13341444 0.12530414 0.11719384 0.11780211 0.12489862\n",
            "  0.14132198 0.13098135 0.12935929 0.13240065 0.12895377 0.12530414\n",
            "  0.13381995 0.14557989 0.15166261 0.15085158 0.14679643 0.14355231\n",
            "  0.12733171 0.14963504 0.14801298 0.15815085 0.16504461 0.15896188\n",
            "  0.16626115 0.56366586 0.56772101 0.60158151 0.60502839 0.6350365\n",
            "  0.63260341 0.6025953  0.58860503 0.54298459 0.54298459 0.54501217]\n",
            " [0.18349554 0.1717356  0.16423358 0.16991079 0.17619627 0.16788321\n",
            "  0.16909976 0.17396594 0.17741281 0.18268451 0.19221411 0.18896999\n",
            "  0.19018654 0.17396594 0.17092457 0.16788321 0.17477697 0.16443633\n",
            "  0.14557989 0.15287916 0.15369019 0.15044607 0.14152474 0.15145985\n",
            "  0.13341444 0.12530414 0.11719384 0.11780211 0.12489862 0.14132198\n",
            "  0.13098135 0.12935929 0.13240065 0.12895377 0.12530414 0.13381995\n",
            "  0.14557989 0.15166261 0.15085158 0.14679643 0.14355231 0.12733171\n",
            "  0.14963504 0.14801298 0.15815085 0.16504461 0.15896188 0.16626115\n",
            "  0.56366586 0.56772101 0.60158151 0.60502839 0.6350365  0.63260341\n",
            "  0.6025953  0.58860503 0.54298459 0.54298459 0.54501217 0.51459854]\n",
            " [0.1717356  0.16423358 0.16991079 0.17619627 0.16788321 0.16909976\n",
            "  0.17396594 0.17741281 0.18268451 0.19221411 0.18896999 0.19018654\n",
            "  0.17396594 0.17092457 0.16788321 0.17477697 0.16443633 0.14557989\n",
            "  0.15287916 0.15369019 0.15044607 0.14152474 0.15145985 0.13341444\n",
            "  0.12530414 0.11719384 0.11780211 0.12489862 0.14132198 0.13098135\n",
            "  0.12935929 0.13240065 0.12895377 0.12530414 0.13381995 0.14557989\n",
            "  0.15166261 0.15085158 0.14679643 0.14355231 0.12733171 0.14963504\n",
            "  0.14801298 0.15815085 0.16504461 0.15896188 0.16626115 0.56366586\n",
            "  0.56772101 0.60158151 0.60502839 0.6350365  0.63260341 0.6025953\n",
            "  0.58860503 0.54298459 0.54298459 0.54501217 0.51459854 0.55109489]\n",
            " [0.16423358 0.16991079 0.17619627 0.16788321 0.16909976 0.17396594\n",
            "  0.17741281 0.18268451 0.19221411 0.18896999 0.19018654 0.17396594\n",
            "  0.17092457 0.16788321 0.17477697 0.16443633 0.14557989 0.15287916\n",
            "  0.15369019 0.15044607 0.14152474 0.15145985 0.13341444 0.12530414\n",
            "  0.11719384 0.11780211 0.12489862 0.14132198 0.13098135 0.12935929\n",
            "  0.13240065 0.12895377 0.12530414 0.13381995 0.14557989 0.15166261\n",
            "  0.15085158 0.14679643 0.14355231 0.12733171 0.14963504 0.14801298\n",
            "  0.15815085 0.16504461 0.15896188 0.16626115 0.56366586 0.56772101\n",
            "  0.60158151 0.60502839 0.6350365  0.63260341 0.6025953  0.58860503\n",
            "  0.54298459 0.54298459 0.54501217 0.51459854 0.55109489 0.57745337]\n",
            " [0.16991079 0.17619627 0.16788321 0.16909976 0.17396594 0.17741281\n",
            "  0.18268451 0.19221411 0.18896999 0.19018654 0.17396594 0.17092457\n",
            "  0.16788321 0.17477697 0.16443633 0.14557989 0.15287916 0.15369019\n",
            "  0.15044607 0.14152474 0.15145985 0.13341444 0.12530414 0.11719384\n",
            "  0.11780211 0.12489862 0.14132198 0.13098135 0.12935929 0.13240065\n",
            "  0.12895377 0.12530414 0.13381995 0.14557989 0.15166261 0.15085158\n",
            "  0.14679643 0.14355231 0.12733171 0.14963504 0.14801298 0.15815085\n",
            "  0.16504461 0.15896188 0.16626115 0.56366586 0.56772101 0.60158151\n",
            "  0.60502839 0.6350365  0.63260341 0.6025953  0.58860503 0.54298459\n",
            "  0.54298459 0.54501217 0.51459854 0.55109489 0.57745337 0.60381184]]\n"
          ],
          "name": "stdout"
        }
      ]
    },
    {
      "cell_type": "code",
      "metadata": {
        "id": "Y_IKYtCTTZxu"
      },
      "source": [
        "X_test = np.reshape(X_test, (X_test.shape[0], X_test.shape[1], 1))"
      ],
      "execution_count": 44,
      "outputs": []
    },
    {
      "cell_type": "code",
      "metadata": {
        "colab": {
          "base_uri": "https://localhost:8080/"
        },
        "id": "v9dYmtS4TcY5",
        "outputId": "1d4d0dd9-7367-469d-8c77-4189c6682197"
      },
      "source": [
        "X_test.shape"
      ],
      "execution_count": 45,
      "outputs": [
        {
          "output_type": "execute_result",
          "data": {
            "text/plain": [
              "(16, 60, 1)"
            ]
          },
          "metadata": {
            "tags": []
          },
          "execution_count": 45
        }
      ]
    },
    {
      "cell_type": "code",
      "metadata": {
        "id": "VqwEYRJ-Tgun",
        "colab": {
          "base_uri": "https://localhost:8080/"
        },
        "outputId": "574ff914-7846-4a3e-9fd3-a1c2a9dda6ce"
      },
      "source": [
        "print(X_test)"
      ],
      "execution_count": 46,
      "outputs": [
        {
          "output_type": "stream",
          "text": [
            "[[[0.20600162]\n",
            "  [0.21654501]\n",
            "  [0.21654501]\n",
            "  [0.2175588 ]\n",
            "  [0.19870235]\n",
            "  [0.19018654]\n",
            "  [0.17802109]\n",
            "  [0.175588  ]\n",
            "  [0.16301703]\n",
            "  [0.16707218]\n",
            "  [0.17112733]\n",
            "  [0.17639903]\n",
            "  [0.18349554]\n",
            "  [0.1717356 ]\n",
            "  [0.16423358]\n",
            "  [0.16991079]\n",
            "  [0.17619627]\n",
            "  [0.16788321]\n",
            "  [0.16909976]\n",
            "  [0.17396594]\n",
            "  [0.17741281]\n",
            "  [0.18268451]\n",
            "  [0.19221411]\n",
            "  [0.18896999]\n",
            "  [0.19018654]\n",
            "  [0.17396594]\n",
            "  [0.17092457]\n",
            "  [0.16788321]\n",
            "  [0.17477697]\n",
            "  [0.16443633]\n",
            "  [0.14557989]\n",
            "  [0.15287916]\n",
            "  [0.15369019]\n",
            "  [0.15044607]\n",
            "  [0.14152474]\n",
            "  [0.15145985]\n",
            "  [0.13341444]\n",
            "  [0.12530414]\n",
            "  [0.11719384]\n",
            "  [0.11780211]\n",
            "  [0.12489862]\n",
            "  [0.14132198]\n",
            "  [0.13098135]\n",
            "  [0.12935929]\n",
            "  [0.13240065]\n",
            "  [0.12895377]\n",
            "  [0.12530414]\n",
            "  [0.13381995]\n",
            "  [0.14557989]\n",
            "  [0.15166261]\n",
            "  [0.15085158]\n",
            "  [0.14679643]\n",
            "  [0.14355231]\n",
            "  [0.12733171]\n",
            "  [0.14963504]\n",
            "  [0.14801298]\n",
            "  [0.15815085]\n",
            "  [0.16504461]\n",
            "  [0.15896188]\n",
            "  [0.16626115]]\n",
            "\n",
            " [[0.21654501]\n",
            "  [0.21654501]\n",
            "  [0.2175588 ]\n",
            "  [0.19870235]\n",
            "  [0.19018654]\n",
            "  [0.17802109]\n",
            "  [0.175588  ]\n",
            "  [0.16301703]\n",
            "  [0.16707218]\n",
            "  [0.17112733]\n",
            "  [0.17639903]\n",
            "  [0.18349554]\n",
            "  [0.1717356 ]\n",
            "  [0.16423358]\n",
            "  [0.16991079]\n",
            "  [0.17619627]\n",
            "  [0.16788321]\n",
            "  [0.16909976]\n",
            "  [0.17396594]\n",
            "  [0.17741281]\n",
            "  [0.18268451]\n",
            "  [0.19221411]\n",
            "  [0.18896999]\n",
            "  [0.19018654]\n",
            "  [0.17396594]\n",
            "  [0.17092457]\n",
            "  [0.16788321]\n",
            "  [0.17477697]\n",
            "  [0.16443633]\n",
            "  [0.14557989]\n",
            "  [0.15287916]\n",
            "  [0.15369019]\n",
            "  [0.15044607]\n",
            "  [0.14152474]\n",
            "  [0.15145985]\n",
            "  [0.13341444]\n",
            "  [0.12530414]\n",
            "  [0.11719384]\n",
            "  [0.11780211]\n",
            "  [0.12489862]\n",
            "  [0.14132198]\n",
            "  [0.13098135]\n",
            "  [0.12935929]\n",
            "  [0.13240065]\n",
            "  [0.12895377]\n",
            "  [0.12530414]\n",
            "  [0.13381995]\n",
            "  [0.14557989]\n",
            "  [0.15166261]\n",
            "  [0.15085158]\n",
            "  [0.14679643]\n",
            "  [0.14355231]\n",
            "  [0.12733171]\n",
            "  [0.14963504]\n",
            "  [0.14801298]\n",
            "  [0.15815085]\n",
            "  [0.16504461]\n",
            "  [0.15896188]\n",
            "  [0.16626115]\n",
            "  [0.56366586]]\n",
            "\n",
            " [[0.21654501]\n",
            "  [0.2175588 ]\n",
            "  [0.19870235]\n",
            "  [0.19018654]\n",
            "  [0.17802109]\n",
            "  [0.175588  ]\n",
            "  [0.16301703]\n",
            "  [0.16707218]\n",
            "  [0.17112733]\n",
            "  [0.17639903]\n",
            "  [0.18349554]\n",
            "  [0.1717356 ]\n",
            "  [0.16423358]\n",
            "  [0.16991079]\n",
            "  [0.17619627]\n",
            "  [0.16788321]\n",
            "  [0.16909976]\n",
            "  [0.17396594]\n",
            "  [0.17741281]\n",
            "  [0.18268451]\n",
            "  [0.19221411]\n",
            "  [0.18896999]\n",
            "  [0.19018654]\n",
            "  [0.17396594]\n",
            "  [0.17092457]\n",
            "  [0.16788321]\n",
            "  [0.17477697]\n",
            "  [0.16443633]\n",
            "  [0.14557989]\n",
            "  [0.15287916]\n",
            "  [0.15369019]\n",
            "  [0.15044607]\n",
            "  [0.14152474]\n",
            "  [0.15145985]\n",
            "  [0.13341444]\n",
            "  [0.12530414]\n",
            "  [0.11719384]\n",
            "  [0.11780211]\n",
            "  [0.12489862]\n",
            "  [0.14132198]\n",
            "  [0.13098135]\n",
            "  [0.12935929]\n",
            "  [0.13240065]\n",
            "  [0.12895377]\n",
            "  [0.12530414]\n",
            "  [0.13381995]\n",
            "  [0.14557989]\n",
            "  [0.15166261]\n",
            "  [0.15085158]\n",
            "  [0.14679643]\n",
            "  [0.14355231]\n",
            "  [0.12733171]\n",
            "  [0.14963504]\n",
            "  [0.14801298]\n",
            "  [0.15815085]\n",
            "  [0.16504461]\n",
            "  [0.15896188]\n",
            "  [0.16626115]\n",
            "  [0.56366586]\n",
            "  [0.56772101]]\n",
            "\n",
            " [[0.2175588 ]\n",
            "  [0.19870235]\n",
            "  [0.19018654]\n",
            "  [0.17802109]\n",
            "  [0.175588  ]\n",
            "  [0.16301703]\n",
            "  [0.16707218]\n",
            "  [0.17112733]\n",
            "  [0.17639903]\n",
            "  [0.18349554]\n",
            "  [0.1717356 ]\n",
            "  [0.16423358]\n",
            "  [0.16991079]\n",
            "  [0.17619627]\n",
            "  [0.16788321]\n",
            "  [0.16909976]\n",
            "  [0.17396594]\n",
            "  [0.17741281]\n",
            "  [0.18268451]\n",
            "  [0.19221411]\n",
            "  [0.18896999]\n",
            "  [0.19018654]\n",
            "  [0.17396594]\n",
            "  [0.17092457]\n",
            "  [0.16788321]\n",
            "  [0.17477697]\n",
            "  [0.16443633]\n",
            "  [0.14557989]\n",
            "  [0.15287916]\n",
            "  [0.15369019]\n",
            "  [0.15044607]\n",
            "  [0.14152474]\n",
            "  [0.15145985]\n",
            "  [0.13341444]\n",
            "  [0.12530414]\n",
            "  [0.11719384]\n",
            "  [0.11780211]\n",
            "  [0.12489862]\n",
            "  [0.14132198]\n",
            "  [0.13098135]\n",
            "  [0.12935929]\n",
            "  [0.13240065]\n",
            "  [0.12895377]\n",
            "  [0.12530414]\n",
            "  [0.13381995]\n",
            "  [0.14557989]\n",
            "  [0.15166261]\n",
            "  [0.15085158]\n",
            "  [0.14679643]\n",
            "  [0.14355231]\n",
            "  [0.12733171]\n",
            "  [0.14963504]\n",
            "  [0.14801298]\n",
            "  [0.15815085]\n",
            "  [0.16504461]\n",
            "  [0.15896188]\n",
            "  [0.16626115]\n",
            "  [0.56366586]\n",
            "  [0.56772101]\n",
            "  [0.60158151]]\n",
            "\n",
            " [[0.19870235]\n",
            "  [0.19018654]\n",
            "  [0.17802109]\n",
            "  [0.175588  ]\n",
            "  [0.16301703]\n",
            "  [0.16707218]\n",
            "  [0.17112733]\n",
            "  [0.17639903]\n",
            "  [0.18349554]\n",
            "  [0.1717356 ]\n",
            "  [0.16423358]\n",
            "  [0.16991079]\n",
            "  [0.17619627]\n",
            "  [0.16788321]\n",
            "  [0.16909976]\n",
            "  [0.17396594]\n",
            "  [0.17741281]\n",
            "  [0.18268451]\n",
            "  [0.19221411]\n",
            "  [0.18896999]\n",
            "  [0.19018654]\n",
            "  [0.17396594]\n",
            "  [0.17092457]\n",
            "  [0.16788321]\n",
            "  [0.17477697]\n",
            "  [0.16443633]\n",
            "  [0.14557989]\n",
            "  [0.15287916]\n",
            "  [0.15369019]\n",
            "  [0.15044607]\n",
            "  [0.14152474]\n",
            "  [0.15145985]\n",
            "  [0.13341444]\n",
            "  [0.12530414]\n",
            "  [0.11719384]\n",
            "  [0.11780211]\n",
            "  [0.12489862]\n",
            "  [0.14132198]\n",
            "  [0.13098135]\n",
            "  [0.12935929]\n",
            "  [0.13240065]\n",
            "  [0.12895377]\n",
            "  [0.12530414]\n",
            "  [0.13381995]\n",
            "  [0.14557989]\n",
            "  [0.15166261]\n",
            "  [0.15085158]\n",
            "  [0.14679643]\n",
            "  [0.14355231]\n",
            "  [0.12733171]\n",
            "  [0.14963504]\n",
            "  [0.14801298]\n",
            "  [0.15815085]\n",
            "  [0.16504461]\n",
            "  [0.15896188]\n",
            "  [0.16626115]\n",
            "  [0.56366586]\n",
            "  [0.56772101]\n",
            "  [0.60158151]\n",
            "  [0.60502839]]\n",
            "\n",
            " [[0.19018654]\n",
            "  [0.17802109]\n",
            "  [0.175588  ]\n",
            "  [0.16301703]\n",
            "  [0.16707218]\n",
            "  [0.17112733]\n",
            "  [0.17639903]\n",
            "  [0.18349554]\n",
            "  [0.1717356 ]\n",
            "  [0.16423358]\n",
            "  [0.16991079]\n",
            "  [0.17619627]\n",
            "  [0.16788321]\n",
            "  [0.16909976]\n",
            "  [0.17396594]\n",
            "  [0.17741281]\n",
            "  [0.18268451]\n",
            "  [0.19221411]\n",
            "  [0.18896999]\n",
            "  [0.19018654]\n",
            "  [0.17396594]\n",
            "  [0.17092457]\n",
            "  [0.16788321]\n",
            "  [0.17477697]\n",
            "  [0.16443633]\n",
            "  [0.14557989]\n",
            "  [0.15287916]\n",
            "  [0.15369019]\n",
            "  [0.15044607]\n",
            "  [0.14152474]\n",
            "  [0.15145985]\n",
            "  [0.13341444]\n",
            "  [0.12530414]\n",
            "  [0.11719384]\n",
            "  [0.11780211]\n",
            "  [0.12489862]\n",
            "  [0.14132198]\n",
            "  [0.13098135]\n",
            "  [0.12935929]\n",
            "  [0.13240065]\n",
            "  [0.12895377]\n",
            "  [0.12530414]\n",
            "  [0.13381995]\n",
            "  [0.14557989]\n",
            "  [0.15166261]\n",
            "  [0.15085158]\n",
            "  [0.14679643]\n",
            "  [0.14355231]\n",
            "  [0.12733171]\n",
            "  [0.14963504]\n",
            "  [0.14801298]\n",
            "  [0.15815085]\n",
            "  [0.16504461]\n",
            "  [0.15896188]\n",
            "  [0.16626115]\n",
            "  [0.56366586]\n",
            "  [0.56772101]\n",
            "  [0.60158151]\n",
            "  [0.60502839]\n",
            "  [0.6350365 ]]\n",
            "\n",
            " [[0.17802109]\n",
            "  [0.175588  ]\n",
            "  [0.16301703]\n",
            "  [0.16707218]\n",
            "  [0.17112733]\n",
            "  [0.17639903]\n",
            "  [0.18349554]\n",
            "  [0.1717356 ]\n",
            "  [0.16423358]\n",
            "  [0.16991079]\n",
            "  [0.17619627]\n",
            "  [0.16788321]\n",
            "  [0.16909976]\n",
            "  [0.17396594]\n",
            "  [0.17741281]\n",
            "  [0.18268451]\n",
            "  [0.19221411]\n",
            "  [0.18896999]\n",
            "  [0.19018654]\n",
            "  [0.17396594]\n",
            "  [0.17092457]\n",
            "  [0.16788321]\n",
            "  [0.17477697]\n",
            "  [0.16443633]\n",
            "  [0.14557989]\n",
            "  [0.15287916]\n",
            "  [0.15369019]\n",
            "  [0.15044607]\n",
            "  [0.14152474]\n",
            "  [0.15145985]\n",
            "  [0.13341444]\n",
            "  [0.12530414]\n",
            "  [0.11719384]\n",
            "  [0.11780211]\n",
            "  [0.12489862]\n",
            "  [0.14132198]\n",
            "  [0.13098135]\n",
            "  [0.12935929]\n",
            "  [0.13240065]\n",
            "  [0.12895377]\n",
            "  [0.12530414]\n",
            "  [0.13381995]\n",
            "  [0.14557989]\n",
            "  [0.15166261]\n",
            "  [0.15085158]\n",
            "  [0.14679643]\n",
            "  [0.14355231]\n",
            "  [0.12733171]\n",
            "  [0.14963504]\n",
            "  [0.14801298]\n",
            "  [0.15815085]\n",
            "  [0.16504461]\n",
            "  [0.15896188]\n",
            "  [0.16626115]\n",
            "  [0.56366586]\n",
            "  [0.56772101]\n",
            "  [0.60158151]\n",
            "  [0.60502839]\n",
            "  [0.6350365 ]\n",
            "  [0.63260341]]\n",
            "\n",
            " [[0.175588  ]\n",
            "  [0.16301703]\n",
            "  [0.16707218]\n",
            "  [0.17112733]\n",
            "  [0.17639903]\n",
            "  [0.18349554]\n",
            "  [0.1717356 ]\n",
            "  [0.16423358]\n",
            "  [0.16991079]\n",
            "  [0.17619627]\n",
            "  [0.16788321]\n",
            "  [0.16909976]\n",
            "  [0.17396594]\n",
            "  [0.17741281]\n",
            "  [0.18268451]\n",
            "  [0.19221411]\n",
            "  [0.18896999]\n",
            "  [0.19018654]\n",
            "  [0.17396594]\n",
            "  [0.17092457]\n",
            "  [0.16788321]\n",
            "  [0.17477697]\n",
            "  [0.16443633]\n",
            "  [0.14557989]\n",
            "  [0.15287916]\n",
            "  [0.15369019]\n",
            "  [0.15044607]\n",
            "  [0.14152474]\n",
            "  [0.15145985]\n",
            "  [0.13341444]\n",
            "  [0.12530414]\n",
            "  [0.11719384]\n",
            "  [0.11780211]\n",
            "  [0.12489862]\n",
            "  [0.14132198]\n",
            "  [0.13098135]\n",
            "  [0.12935929]\n",
            "  [0.13240065]\n",
            "  [0.12895377]\n",
            "  [0.12530414]\n",
            "  [0.13381995]\n",
            "  [0.14557989]\n",
            "  [0.15166261]\n",
            "  [0.15085158]\n",
            "  [0.14679643]\n",
            "  [0.14355231]\n",
            "  [0.12733171]\n",
            "  [0.14963504]\n",
            "  [0.14801298]\n",
            "  [0.15815085]\n",
            "  [0.16504461]\n",
            "  [0.15896188]\n",
            "  [0.16626115]\n",
            "  [0.56366586]\n",
            "  [0.56772101]\n",
            "  [0.60158151]\n",
            "  [0.60502839]\n",
            "  [0.6350365 ]\n",
            "  [0.63260341]\n",
            "  [0.6025953 ]]\n",
            "\n",
            " [[0.16301703]\n",
            "  [0.16707218]\n",
            "  [0.17112733]\n",
            "  [0.17639903]\n",
            "  [0.18349554]\n",
            "  [0.1717356 ]\n",
            "  [0.16423358]\n",
            "  [0.16991079]\n",
            "  [0.17619627]\n",
            "  [0.16788321]\n",
            "  [0.16909976]\n",
            "  [0.17396594]\n",
            "  [0.17741281]\n",
            "  [0.18268451]\n",
            "  [0.19221411]\n",
            "  [0.18896999]\n",
            "  [0.19018654]\n",
            "  [0.17396594]\n",
            "  [0.17092457]\n",
            "  [0.16788321]\n",
            "  [0.17477697]\n",
            "  [0.16443633]\n",
            "  [0.14557989]\n",
            "  [0.15287916]\n",
            "  [0.15369019]\n",
            "  [0.15044607]\n",
            "  [0.14152474]\n",
            "  [0.15145985]\n",
            "  [0.13341444]\n",
            "  [0.12530414]\n",
            "  [0.11719384]\n",
            "  [0.11780211]\n",
            "  [0.12489862]\n",
            "  [0.14132198]\n",
            "  [0.13098135]\n",
            "  [0.12935929]\n",
            "  [0.13240065]\n",
            "  [0.12895377]\n",
            "  [0.12530414]\n",
            "  [0.13381995]\n",
            "  [0.14557989]\n",
            "  [0.15166261]\n",
            "  [0.15085158]\n",
            "  [0.14679643]\n",
            "  [0.14355231]\n",
            "  [0.12733171]\n",
            "  [0.14963504]\n",
            "  [0.14801298]\n",
            "  [0.15815085]\n",
            "  [0.16504461]\n",
            "  [0.15896188]\n",
            "  [0.16626115]\n",
            "  [0.56366586]\n",
            "  [0.56772101]\n",
            "  [0.60158151]\n",
            "  [0.60502839]\n",
            "  [0.6350365 ]\n",
            "  [0.63260341]\n",
            "  [0.6025953 ]\n",
            "  [0.58860503]]\n",
            "\n",
            " [[0.16707218]\n",
            "  [0.17112733]\n",
            "  [0.17639903]\n",
            "  [0.18349554]\n",
            "  [0.1717356 ]\n",
            "  [0.16423358]\n",
            "  [0.16991079]\n",
            "  [0.17619627]\n",
            "  [0.16788321]\n",
            "  [0.16909976]\n",
            "  [0.17396594]\n",
            "  [0.17741281]\n",
            "  [0.18268451]\n",
            "  [0.19221411]\n",
            "  [0.18896999]\n",
            "  [0.19018654]\n",
            "  [0.17396594]\n",
            "  [0.17092457]\n",
            "  [0.16788321]\n",
            "  [0.17477697]\n",
            "  [0.16443633]\n",
            "  [0.14557989]\n",
            "  [0.15287916]\n",
            "  [0.15369019]\n",
            "  [0.15044607]\n",
            "  [0.14152474]\n",
            "  [0.15145985]\n",
            "  [0.13341444]\n",
            "  [0.12530414]\n",
            "  [0.11719384]\n",
            "  [0.11780211]\n",
            "  [0.12489862]\n",
            "  [0.14132198]\n",
            "  [0.13098135]\n",
            "  [0.12935929]\n",
            "  [0.13240065]\n",
            "  [0.12895377]\n",
            "  [0.12530414]\n",
            "  [0.13381995]\n",
            "  [0.14557989]\n",
            "  [0.15166261]\n",
            "  [0.15085158]\n",
            "  [0.14679643]\n",
            "  [0.14355231]\n",
            "  [0.12733171]\n",
            "  [0.14963504]\n",
            "  [0.14801298]\n",
            "  [0.15815085]\n",
            "  [0.16504461]\n",
            "  [0.15896188]\n",
            "  [0.16626115]\n",
            "  [0.56366586]\n",
            "  [0.56772101]\n",
            "  [0.60158151]\n",
            "  [0.60502839]\n",
            "  [0.6350365 ]\n",
            "  [0.63260341]\n",
            "  [0.6025953 ]\n",
            "  [0.58860503]\n",
            "  [0.54298459]]\n",
            "\n",
            " [[0.17112733]\n",
            "  [0.17639903]\n",
            "  [0.18349554]\n",
            "  [0.1717356 ]\n",
            "  [0.16423358]\n",
            "  [0.16991079]\n",
            "  [0.17619627]\n",
            "  [0.16788321]\n",
            "  [0.16909976]\n",
            "  [0.17396594]\n",
            "  [0.17741281]\n",
            "  [0.18268451]\n",
            "  [0.19221411]\n",
            "  [0.18896999]\n",
            "  [0.19018654]\n",
            "  [0.17396594]\n",
            "  [0.17092457]\n",
            "  [0.16788321]\n",
            "  [0.17477697]\n",
            "  [0.16443633]\n",
            "  [0.14557989]\n",
            "  [0.15287916]\n",
            "  [0.15369019]\n",
            "  [0.15044607]\n",
            "  [0.14152474]\n",
            "  [0.15145985]\n",
            "  [0.13341444]\n",
            "  [0.12530414]\n",
            "  [0.11719384]\n",
            "  [0.11780211]\n",
            "  [0.12489862]\n",
            "  [0.14132198]\n",
            "  [0.13098135]\n",
            "  [0.12935929]\n",
            "  [0.13240065]\n",
            "  [0.12895377]\n",
            "  [0.12530414]\n",
            "  [0.13381995]\n",
            "  [0.14557989]\n",
            "  [0.15166261]\n",
            "  [0.15085158]\n",
            "  [0.14679643]\n",
            "  [0.14355231]\n",
            "  [0.12733171]\n",
            "  [0.14963504]\n",
            "  [0.14801298]\n",
            "  [0.15815085]\n",
            "  [0.16504461]\n",
            "  [0.15896188]\n",
            "  [0.16626115]\n",
            "  [0.56366586]\n",
            "  [0.56772101]\n",
            "  [0.60158151]\n",
            "  [0.60502839]\n",
            "  [0.6350365 ]\n",
            "  [0.63260341]\n",
            "  [0.6025953 ]\n",
            "  [0.58860503]\n",
            "  [0.54298459]\n",
            "  [0.54298459]]\n",
            "\n",
            " [[0.17639903]\n",
            "  [0.18349554]\n",
            "  [0.1717356 ]\n",
            "  [0.16423358]\n",
            "  [0.16991079]\n",
            "  [0.17619627]\n",
            "  [0.16788321]\n",
            "  [0.16909976]\n",
            "  [0.17396594]\n",
            "  [0.17741281]\n",
            "  [0.18268451]\n",
            "  [0.19221411]\n",
            "  [0.18896999]\n",
            "  [0.19018654]\n",
            "  [0.17396594]\n",
            "  [0.17092457]\n",
            "  [0.16788321]\n",
            "  [0.17477697]\n",
            "  [0.16443633]\n",
            "  [0.14557989]\n",
            "  [0.15287916]\n",
            "  [0.15369019]\n",
            "  [0.15044607]\n",
            "  [0.14152474]\n",
            "  [0.15145985]\n",
            "  [0.13341444]\n",
            "  [0.12530414]\n",
            "  [0.11719384]\n",
            "  [0.11780211]\n",
            "  [0.12489862]\n",
            "  [0.14132198]\n",
            "  [0.13098135]\n",
            "  [0.12935929]\n",
            "  [0.13240065]\n",
            "  [0.12895377]\n",
            "  [0.12530414]\n",
            "  [0.13381995]\n",
            "  [0.14557989]\n",
            "  [0.15166261]\n",
            "  [0.15085158]\n",
            "  [0.14679643]\n",
            "  [0.14355231]\n",
            "  [0.12733171]\n",
            "  [0.14963504]\n",
            "  [0.14801298]\n",
            "  [0.15815085]\n",
            "  [0.16504461]\n",
            "  [0.15896188]\n",
            "  [0.16626115]\n",
            "  [0.56366586]\n",
            "  [0.56772101]\n",
            "  [0.60158151]\n",
            "  [0.60502839]\n",
            "  [0.6350365 ]\n",
            "  [0.63260341]\n",
            "  [0.6025953 ]\n",
            "  [0.58860503]\n",
            "  [0.54298459]\n",
            "  [0.54298459]\n",
            "  [0.54501217]]\n",
            "\n",
            " [[0.18349554]\n",
            "  [0.1717356 ]\n",
            "  [0.16423358]\n",
            "  [0.16991079]\n",
            "  [0.17619627]\n",
            "  [0.16788321]\n",
            "  [0.16909976]\n",
            "  [0.17396594]\n",
            "  [0.17741281]\n",
            "  [0.18268451]\n",
            "  [0.19221411]\n",
            "  [0.18896999]\n",
            "  [0.19018654]\n",
            "  [0.17396594]\n",
            "  [0.17092457]\n",
            "  [0.16788321]\n",
            "  [0.17477697]\n",
            "  [0.16443633]\n",
            "  [0.14557989]\n",
            "  [0.15287916]\n",
            "  [0.15369019]\n",
            "  [0.15044607]\n",
            "  [0.14152474]\n",
            "  [0.15145985]\n",
            "  [0.13341444]\n",
            "  [0.12530414]\n",
            "  [0.11719384]\n",
            "  [0.11780211]\n",
            "  [0.12489862]\n",
            "  [0.14132198]\n",
            "  [0.13098135]\n",
            "  [0.12935929]\n",
            "  [0.13240065]\n",
            "  [0.12895377]\n",
            "  [0.12530414]\n",
            "  [0.13381995]\n",
            "  [0.14557989]\n",
            "  [0.15166261]\n",
            "  [0.15085158]\n",
            "  [0.14679643]\n",
            "  [0.14355231]\n",
            "  [0.12733171]\n",
            "  [0.14963504]\n",
            "  [0.14801298]\n",
            "  [0.15815085]\n",
            "  [0.16504461]\n",
            "  [0.15896188]\n",
            "  [0.16626115]\n",
            "  [0.56366586]\n",
            "  [0.56772101]\n",
            "  [0.60158151]\n",
            "  [0.60502839]\n",
            "  [0.6350365 ]\n",
            "  [0.63260341]\n",
            "  [0.6025953 ]\n",
            "  [0.58860503]\n",
            "  [0.54298459]\n",
            "  [0.54298459]\n",
            "  [0.54501217]\n",
            "  [0.51459854]]\n",
            "\n",
            " [[0.1717356 ]\n",
            "  [0.16423358]\n",
            "  [0.16991079]\n",
            "  [0.17619627]\n",
            "  [0.16788321]\n",
            "  [0.16909976]\n",
            "  [0.17396594]\n",
            "  [0.17741281]\n",
            "  [0.18268451]\n",
            "  [0.19221411]\n",
            "  [0.18896999]\n",
            "  [0.19018654]\n",
            "  [0.17396594]\n",
            "  [0.17092457]\n",
            "  [0.16788321]\n",
            "  [0.17477697]\n",
            "  [0.16443633]\n",
            "  [0.14557989]\n",
            "  [0.15287916]\n",
            "  [0.15369019]\n",
            "  [0.15044607]\n",
            "  [0.14152474]\n",
            "  [0.15145985]\n",
            "  [0.13341444]\n",
            "  [0.12530414]\n",
            "  [0.11719384]\n",
            "  [0.11780211]\n",
            "  [0.12489862]\n",
            "  [0.14132198]\n",
            "  [0.13098135]\n",
            "  [0.12935929]\n",
            "  [0.13240065]\n",
            "  [0.12895377]\n",
            "  [0.12530414]\n",
            "  [0.13381995]\n",
            "  [0.14557989]\n",
            "  [0.15166261]\n",
            "  [0.15085158]\n",
            "  [0.14679643]\n",
            "  [0.14355231]\n",
            "  [0.12733171]\n",
            "  [0.14963504]\n",
            "  [0.14801298]\n",
            "  [0.15815085]\n",
            "  [0.16504461]\n",
            "  [0.15896188]\n",
            "  [0.16626115]\n",
            "  [0.56366586]\n",
            "  [0.56772101]\n",
            "  [0.60158151]\n",
            "  [0.60502839]\n",
            "  [0.6350365 ]\n",
            "  [0.63260341]\n",
            "  [0.6025953 ]\n",
            "  [0.58860503]\n",
            "  [0.54298459]\n",
            "  [0.54298459]\n",
            "  [0.54501217]\n",
            "  [0.51459854]\n",
            "  [0.55109489]]\n",
            "\n",
            " [[0.16423358]\n",
            "  [0.16991079]\n",
            "  [0.17619627]\n",
            "  [0.16788321]\n",
            "  [0.16909976]\n",
            "  [0.17396594]\n",
            "  [0.17741281]\n",
            "  [0.18268451]\n",
            "  [0.19221411]\n",
            "  [0.18896999]\n",
            "  [0.19018654]\n",
            "  [0.17396594]\n",
            "  [0.17092457]\n",
            "  [0.16788321]\n",
            "  [0.17477697]\n",
            "  [0.16443633]\n",
            "  [0.14557989]\n",
            "  [0.15287916]\n",
            "  [0.15369019]\n",
            "  [0.15044607]\n",
            "  [0.14152474]\n",
            "  [0.15145985]\n",
            "  [0.13341444]\n",
            "  [0.12530414]\n",
            "  [0.11719384]\n",
            "  [0.11780211]\n",
            "  [0.12489862]\n",
            "  [0.14132198]\n",
            "  [0.13098135]\n",
            "  [0.12935929]\n",
            "  [0.13240065]\n",
            "  [0.12895377]\n",
            "  [0.12530414]\n",
            "  [0.13381995]\n",
            "  [0.14557989]\n",
            "  [0.15166261]\n",
            "  [0.15085158]\n",
            "  [0.14679643]\n",
            "  [0.14355231]\n",
            "  [0.12733171]\n",
            "  [0.14963504]\n",
            "  [0.14801298]\n",
            "  [0.15815085]\n",
            "  [0.16504461]\n",
            "  [0.15896188]\n",
            "  [0.16626115]\n",
            "  [0.56366586]\n",
            "  [0.56772101]\n",
            "  [0.60158151]\n",
            "  [0.60502839]\n",
            "  [0.6350365 ]\n",
            "  [0.63260341]\n",
            "  [0.6025953 ]\n",
            "  [0.58860503]\n",
            "  [0.54298459]\n",
            "  [0.54298459]\n",
            "  [0.54501217]\n",
            "  [0.51459854]\n",
            "  [0.55109489]\n",
            "  [0.57745337]]\n",
            "\n",
            " [[0.16991079]\n",
            "  [0.17619627]\n",
            "  [0.16788321]\n",
            "  [0.16909976]\n",
            "  [0.17396594]\n",
            "  [0.17741281]\n",
            "  [0.18268451]\n",
            "  [0.19221411]\n",
            "  [0.18896999]\n",
            "  [0.19018654]\n",
            "  [0.17396594]\n",
            "  [0.17092457]\n",
            "  [0.16788321]\n",
            "  [0.17477697]\n",
            "  [0.16443633]\n",
            "  [0.14557989]\n",
            "  [0.15287916]\n",
            "  [0.15369019]\n",
            "  [0.15044607]\n",
            "  [0.14152474]\n",
            "  [0.15145985]\n",
            "  [0.13341444]\n",
            "  [0.12530414]\n",
            "  [0.11719384]\n",
            "  [0.11780211]\n",
            "  [0.12489862]\n",
            "  [0.14132198]\n",
            "  [0.13098135]\n",
            "  [0.12935929]\n",
            "  [0.13240065]\n",
            "  [0.12895377]\n",
            "  [0.12530414]\n",
            "  [0.13381995]\n",
            "  [0.14557989]\n",
            "  [0.15166261]\n",
            "  [0.15085158]\n",
            "  [0.14679643]\n",
            "  [0.14355231]\n",
            "  [0.12733171]\n",
            "  [0.14963504]\n",
            "  [0.14801298]\n",
            "  [0.15815085]\n",
            "  [0.16504461]\n",
            "  [0.15896188]\n",
            "  [0.16626115]\n",
            "  [0.56366586]\n",
            "  [0.56772101]\n",
            "  [0.60158151]\n",
            "  [0.60502839]\n",
            "  [0.6350365 ]\n",
            "  [0.63260341]\n",
            "  [0.6025953 ]\n",
            "  [0.58860503]\n",
            "  [0.54298459]\n",
            "  [0.54298459]\n",
            "  [0.54501217]\n",
            "  [0.51459854]\n",
            "  [0.55109489]\n",
            "  [0.57745337]\n",
            "  [0.60381184]]]\n"
          ],
          "name": "stdout"
        }
      ]
    },
    {
      "cell_type": "code",
      "metadata": {
        "id": "VhwL-jUdTvFm"
      },
      "source": [
        "# Make predictions on the test set\n",
        "predicted_stock_price = regressor.predict(X_test)\n",
        "predicted_stock_price = sc.inverse_transform(predicted_stock_price)\n"
      ],
      "execution_count": 47,
      "outputs": []
    },
    {
      "cell_type": "code",
      "metadata": {
        "id": "zws0j-zJVNMY"
      },
      "source": [
        "# Getting the predicted stock price of 2017\n",
        "# The first line is to concatenate the 60 rows sequence for the first row of the test dataset\n",
        "# \"open\" is the col name we are working with\n",
        "dataset_total = pd.concat((data['Open'], dataset_test['Open']), axis = 0)\n",
        "inputs = dataset_total[len(dataset_total) - len(dataset_test) - 60:].values\n",
        "inputs = inputs.reshape(-1,1)\n",
        "inputs = sc.transform(inputs)\n",
        "X_test = []\n",
        "for i in range(60, 76):\n",
        "    X_test.append(inputs[i-60:i, 0])\n",
        "X_test = np.array(X_test)\n",
        "X_test = np.reshape(X_test, (X_test.shape[0], X_test.shape[1], 1))\n",
        "predicted_stock_price = regressor.predict(X_test)\n",
        "predicted_stock_price = sc.inverse_transform(predicted_stock_price)\n"
      ],
      "execution_count": 48,
      "outputs": []
    },
    {
      "cell_type": "code",
      "metadata": {
        "id": "skUI8tp3VNMb",
        "colab": {
          "base_uri": "https://localhost:8080/"
        },
        "outputId": "18ed801b-9a21-446f-cdf2-edab0393c117"
      },
      "source": [
        "print(predicted_stock_price)"
      ],
      "execution_count": 49,
      "outputs": [
        {
          "output_type": "stream",
          "text": [
            "[[126.02443]\n",
            " [188.72029]\n",
            " [220.94383]\n",
            " [230.01059]\n",
            " [227.7667 ]\n",
            " [229.45161]\n",
            " [230.7789 ]\n",
            " [227.56952]\n",
            " [224.17755]\n",
            " [216.38014]\n",
            " [212.82513]\n",
            " [212.19891]\n",
            " [207.69586]\n",
            " [210.59325]\n",
            " [216.28607]\n",
            " [222.4063 ]]\n"
          ],
          "name": "stdout"
        }
      ]
    },
    {
      "cell_type": "code",
      "metadata": {
        "id": "6G9P-ZQ2VNMe",
        "colab": {
          "base_uri": "https://localhost:8080/",
          "height": 350
        },
        "outputId": "f2285600-1e80-423b-f743-bfc734acee53"
      },
      "source": [
        "# Visualising the results\n",
        "plt.figure(figsize=(20,5))\n",
        "plt.plot(real_stock_price, color = 'red', label = 'Real Stock Price')\n",
        "plt.plot(predicted_stock_price, color = 'blue', label = 'Predicted Stock Price')\n",
        "plt.title('Stock Price Prediction')\n",
        "plt.xlabel('Time')\n",
        "plt.ylabel('Stock Price')\n",
        "plt.legend()\n",
        "plt.show()"
      ],
      "execution_count": 50,
      "outputs": [
        {
          "output_type": "display_data",
          "data": {
            "image/png": "[encoded data removed]",
            "text/plain": [
              "<Figure size 1440x360 with 1 Axes>"
            ]
          },
          "metadata": {
            "tags": [],
            "needs_background": "light"
          }
        }
      ]
    },
    {
      "cell_type": "code",
      "metadata": {
        "id": "Zeplvl5eVNMi",
        "colab": {
          "base_uri": "https://localhost:8080/"
        },
        "outputId": "1b804888-5ada-4195-be57-c5e50d7a40e2"
      },
      "source": [
        "from sklearn.metrics import mean_absolute_error, mean_squared_error\n",
        "print(\"Mean Absolute Error: \", mean_absolute_error(predicted_stock_price, real_stock_price))\n",
        "mse = mean_squared_error(predicted_stock_price, real_stock_price)\n",
        "print(\"Mean Squared Error: \", mse)\n",
        "import math\n",
        "print(\"Root Mean Squared Error: \",math.sqrt(mse))"
      ],
      "execution_count": 51,
      "outputs": [
        {
          "output_type": "stream",
          "text": [
            "Mean Absolute Error:  13.795685386657714\n",
            "Mean Squared Error:  676.9238381253012\n",
            "Root Mean Squared Error:  26.017760052035634\n"
          ],
          "name": "stdout"
        }
      ]
    },
    {
      "cell_type": "code",
      "metadata": {
        "id": "Idg2-vWCVNMl",
        "colab": {
          "base_uri": "https://localhost:8080/"
        },
        "outputId": "6638e031-b69a-4222-acf5-7e66fbb70ae6"
      },
      "source": [
        "predicted_stock_price = predicted_stock_price.reshape(-1)\n",
        "print(predicted_stock_price)\n",
        "print()\n",
        "\n",
        "real_stock_price = real_stock_price.reshape(-1)\n",
        "print(real_stock_price)"
      ],
      "execution_count": 52,
      "outputs": [
        {
          "output_type": "stream",
          "text": [
            "[126.02443 188.72029 220.94383 230.01059 227.7667  229.45161 230.7789\n",
            " 227.56952 224.17755 216.38014 212.82513 212.19891 207.69586 210.59325\n",
            " 216.28607 222.4063 ]\n",
            "\n",
            "[220.1  221.1  229.45 230.3  237.7  237.1  229.7  226.25 215.   215.\n",
            " 215.5  208.   217.   223.5  230.   234.55]\n"
          ],
          "name": "stdout"
        }
      ]
    },
    {
      "cell_type": "code",
      "metadata": {
        "id": "juO3TC8bVfP4",
        "colab": {
          "base_uri": "https://localhost:8080/"
        },
        "outputId": "3db977dc-72b7-458c-a8b8-59d460985efe"
      },
      "source": [
        "print(np.c_[real_stock_price, predicted_stock_price])"
      ],
      "execution_count": 53,
      "outputs": [
        {
          "output_type": "stream",
          "text": [
            "[[220.1        126.02442932]\n",
            " [221.1        188.72029114]\n",
            " [229.45       220.9438324 ]\n",
            " [230.3        230.0105896 ]\n",
            " [237.7        227.76669312]\n",
            " [237.1        229.45161438]\n",
            " [229.7        230.77890015]\n",
            " [226.25       227.56951904]\n",
            " [215.         224.17755127]\n",
            " [215.         216.38014221]\n",
            " [215.5        212.82513428]\n",
            " [208.         212.19891357]\n",
            " [217.         207.69586182]\n",
            " [223.5        210.59324646]\n",
            " [230.         216.28607178]\n",
            " [234.55       222.40629578]]\n"
          ],
          "name": "stdout"
        }
      ]
    }
  ]
}